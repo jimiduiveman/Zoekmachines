{
 "cells": [
  {
   "cell_type": "markdown",
   "metadata": {
    "slideshow": {
     "slide_type": "slide"
    }
   },
   "source": [
    "# READ ME (installation guide)"
   ]
  },
  {
   "cell_type": "raw",
   "metadata": {},
   "source": [
    "There are a few steps described so that our application will work!\n",
    "Please follow the guidelines."
   ]
  },
  {
   "cell_type": "code",
   "execution_count": null,
   "metadata": {
    "collapsed": false
   },
   "outputs": [],
   "source": [
    "# download elastic search if not already installed!!\n",
    "\n",
    "% cd /Applications/\n",
    "! curl -L -O https://download.elastic.co/elasticsearch/elasticsearch/elasticsearch-1.7.1.zip\n",
    "! unzip    elasticsearch-1.7.1.zip"
   ]
  },
  {
   "cell_type": "code",
   "execution_count": 37,
   "metadata": {
    "collapsed": false
   },
   "outputs": [
    {
     "name": "stdout",
     "output_type": "stream",
     "text": [
      "/Applications/elasticsearch-1.7.1\n",
      "total 56\r\n",
      "-rw-rw-r--   1 jimiduiveman  admin  11358 23 mrt  2015 LICENSE.txt\r\n",
      "-rw-rw-r--   1 jimiduiveman  admin    150  9 jun  2015 NOTICE.txt\r\n",
      "-rw-rw-r--   1 jimiduiveman  admin   8700  9 jun  2015 README.textile\r\n",
      "drwxr-xr-x  12 jimiduiveman  admin    408 29 jul  2015 \u001b[34mbin\u001b[m\u001b[m\r\n",
      "drwxr-xr-x   4 jimiduiveman  admin    136 29 jul  2015 \u001b[34mconfig\u001b[m\u001b[m\r\n",
      "drwxr-xr-x   3 jimiduiveman  admin    102 11 okt 10:28 \u001b[34mdata\u001b[m\u001b[m\r\n",
      "drwxr-xr-x  26 jimiduiveman  admin    884 29 jul  2015 \u001b[34mlib\u001b[m\u001b[m\r\n",
      "drwxr-xr-x  17 jimiduiveman  admin    578 26 okt 14:03 \u001b[34mlogs\u001b[m\u001b[m\r\n",
      "drwxr-xr-x   3 jimiduiveman  admin    102 11 okt 10:12 \u001b[34mplugins\u001b[m\u001b[m\r\n"
     ]
    }
   ],
   "source": [
    "! rm elasticsearch-1.7.1.zip\n",
    "% cd elasticsearch-1.7.1\n",
    "!ls -l"
   ]
  },
  {
   "cell_type": "code",
   "execution_count": null,
   "metadata": {
    "collapsed": false
   },
   "outputs": [],
   "source": [
    "# installing marvel\n",
    "! ./bin/plugin -i elasticsearch/marvel/latest\n",
    "! echo 'marvel.agent.enabled: false' >> ./config/elasticsearch.yml"
   ]
  },
  {
   "cell_type": "code",
   "execution_count": null,
   "metadata": {
    "collapsed": false
   },
   "outputs": [],
   "source": [
    "# running eleastic search\n",
    "\n",
    "!bin/elasticsearch -d\n",
    "\n",
    "## if this doesn't work, in terminal head to:\n",
    "# cd Applications/elasticsearch-1.7.1 and do bin/elasticsearch"
   ]
  },
  {
   "cell_type": "code",
   "execution_count": null,
   "metadata": {
    "collapsed": false
   },
   "outputs": [],
   "source": [
    "#check if it works\n",
    "!curl 'http://localhost:9200/?pretty'"
   ]
  },
  {
   "cell_type": "code",
   "execution_count": 2,
   "metadata": {
    "collapsed": false
   },
   "outputs": [
    {
     "data": {
      "text/plain": [
       "{u'_shards': {u'failed': 0, u'successful': 10, u'total': 10},\n",
       " u'hits': {u'hits': [{u'_id': u'KVR10753',\n",
       "    u'_index': u'moties',\n",
       "    u'_score': 1.0,\n",
       "    u'_source': {u'antwoord': u' Het is juist dat niet voor elk slachtoffer afzonderlijk de doodsoorzaak is vastgesteld. Obductie heeft plaats gevonden in het Laboratorium voor Gerechtelijke Pathologie te Rijswijk op de lichamen van de bemanningsleden. Het is niet gebruikelijk dat ten aanzien van slachtoffers van ongevallen en rampen gerechtelijke sectie wordt verricht. Dat dit wel gebeurd is bij de bemanningsleden komt voort uit het feit dat enkel langs deze weg te achterhalen was of er een lichamelijke oorzaak te vinden is voor het crashen van het toestel. Het Rampen Identificatie Team (RIT) doet geen onderzoek naar de doodsoorzaak van slachtoffers, maar richt zich bij het onderzoek uitsluitend op de vaststelling van de identiteit van de slachtoffers. Gelet op deze taakstelling heeft het RIT dan ook geen onderzoek ingesteld naar de mogelijke relatie tussen de gebruikte blusmethoden en de doodsoorzaak van de bij de ramp met de Hercules betrokken slachtoffers. Het RIT is desalniettemin verzocht te reageren op de opmerkingen van bedoelde tandarts. De Inspectie Gezondheidszorg (IGZ) van het Ministerie van Volksgezondheid, Welzijn en Sport heeft de beschikking gekregen over de door het RIT gemaakte foto\\u2019s van de overledenen. Deze foto\\u2019s zijn door de IGZ, de Inspectie Militaire Gezondheidszorg (IMG) van het Ministerie van Defensie en een aantal ten behoeve van het Hercules-onderzoek ingeschakelde deskundigen nader geanalyseerd en de bevindingen zijn neergelegd in de IGZ-rapportage. \\xabHercules vliegtuigongeval Eindhoven 15 juli 1996 (uitgebracht 14 maart 1997)\\xbb. De bevindingen van het RIT over de gevolgde procedures, de werkwijze en de identificatie van de slachtoffers zijn betrokken bij de onderzoeken van het (toenmalige) Ministerie van Binnenlandse Zaken en zijn verwerkt in het eindrapport \\xabVliegtuigongeval Vliegbasis Eindhoven 15 juli 1996\\xbb (oktober 1996) van de Inspectie Brandweerzorg en Rampenbestrijding van het Ministerie van Binnenlandse Zaken en Koninkrijksrelaties. Ja. Vanwege de specifieke, niet na te bootsen, omstandigheden bij de ramp met de Hercules heeft een onderzoek als bedoeld niet plaatsgevonden. Wel heeft de IGZ een hypothetisch onderzoek verricht naar blusmiddelen die zijn gebruikt bij het Hercules-ongeval. Dit onderzoek heeft een beeld opgeleverd ten aanzien van de fysische en chemische processen ten tijde van de brand en het blussen en wijst uit dat er bij de brand, die meteen na het verongelukken van de Hercules op diverse plaatsen ontstond, verbrandingsproducten (rook, koolmonoxide e.d.) zijn vrijgekomen die voor de slachtoffers ernstige gevolgen hebben gehad. De inspecteurs van de Inspectie Brandweerzorg en Rampenbestrijding (IBR) hebben niet zelf met de overlevenden gesproken. Om de overlevenden, zo kort na het ongeval, niet onnodig te belasten, hebben genoemde inspecteurs in nauw overleg met de Kmar en de gecombineerde Belgisch\\u2013Nederlandse onderzoekscommissie, die onderzoek uitvoerde naar de oorzaak van het ongeval, besloten niet zelf de overlevenden te horen. De inspecteurs van de IBR hebben wel van de Kmar en de Belgisch\\u2013Nederlandse onderzoekscommissie de voor het IBR-onderzoek van belang zijnde informatie uit de gesprekken met de overlevenden gekregen. Deze verklaringen van deze nabestaanden zijn in het eindrapport van de IBR verwerkt. Twee families van nabestaanden zijn wel door de inspecteurs van de IBR gehoord. Mede op grond van de verklaringen van deze nabestaanden zijn in het eindrapport van de IBR twee hoofdstukken (\\xabOpvang van de verwanten van de slachtoffers\\xbb en \\xabInformatie aan de verwanten van de slachtoffers\\xbb) gewijd aan de nabestaanden. Ook de IGZ heeft niet zelf de overlevenden gehoord aangezien zij ten tijde van het IGZ-onderzoek nog in het ziekenhuis verbleven en niet door anderen dan de recherche te benaderen waren. De processen verbaal die door de recherche zijn opgemaakt zijn aan de IGZ ter inzage gegeven. Voor de noodzakelijke medische informatie is een beroep gedaan op de behandelende specialisten uit de betreffende brandwondencentra. Met de betrokken specialisten heeft het onderzoeksteam van de IGZ een aantal keren overlegd en zijn r\\xf6ntgenfoto\\u2019s, laboratoriumuitslagen en klinische toestand nader geanalyseerd hetgeen tot constateringen in de IGZ-rapportage heeft geleid aangaande de brandwonden, pulmonale problemen en het klinisch beeld.',\n",
       "     u'jaar': u' 1999',\n",
       "     u'ministerie': u'Defensie',\n",
       "     u'partij': u'GroenLinks',\n",
       "     u'titel': u' Vragen over het vaststellen van de doodsoorzaken van de slachtoffers van de Herculesramp en de mogelijke relatie tussen de gebruikte blusmethoden en de doodsoorzaken.',\n",
       "     u'vraag': u' Hebt u kennisgenomen van de opmerkingen voor de radio van een tandarts die betrokken was bij de identificatie van slachtoffers van de Herculesramp, dat het mogelijk is dat niet van elk slachtoffer afzonderlijk de doodsoorzaak nauwkeurig is vastgesteld, maar dat bij bepaalde personen van het Rampen Identificatie Team (RIT) mogelijk wel meer kennis is over de mogelijke relatie tussen de gebruikte blusmethoden en de doodsoorzaak van betrokken slachtoffers? Is van elk slachtoffer afzonderlijk nauwkeurig de doodsoorzaak vastgesteld? Zijn de bevindingen van het RIT betrokken in de diverse onderzoeken? Zo neen, waarom niet? Zo ja, op welke wijze? Hebt u kennisgenomen van de opmerking van een van de overlevenden in die radio-uitzending, dat naast het verhaal over \\xabverdrinking door bluswater\\xbb ook twijfels zijn over het gebruik van blusschuim in het vliegtuig in relatie tot de doodsoorzaak van een of meerdere slachtoffers? Is er onderzoek gedaan naar de relatie tussen het gebruik van schuim bij het blussen in het vliegtuig en de mogelijke doodsoorzaak van slachtoffers? Bent u voornemens zo nodig alsnog mensen van het RIT te horen over de mogelijke relatie tussen gebruikte blusmethoden en de doodsoorzaak van slachtoffers en daarvan verslag te doen aan de Kamer? Is het waar, zoals tijdens genoemde radio-uitzending werd beweerd, dat overlevenden alleen door het Openbaar Ministerie zijn gehoord, maar niet in het kader van de overige onderzoeken? Zo ja, waarom niet? Zo neen, hoe zijn bevindingen van bepaalde nabestaanden dan verwerkt in die onderzoeken? Roodgloeiend, VARA-radio 1,, 20 oktober 1999, 19.00\\u201320.00 uur'},\n",
       "    u'_type': u'motie'},\n",
       "   {u'_id': u'KVR10758',\n",
       "    u'_index': u'moties',\n",
       "    u'_score': 1.0,\n",
       "    u'_source': {u'antwoord': u' Ja, de inspectie heeft direct na de melding van het overlijden een onderzoek ingesteld. Naar verwachting zal dit onderzoek begin komend jaar zijn afgerond. Een verslag van het onderzoek zal ik u doen toekomen. De inspectie heeft geen signalen ontvangen, die erop zouden wijzen dat er vaker sprake is van onzorgvuldig handelen in dergelijke klinieken waardoor pati\\xebnten terecht zouden komen in de reguliere zorg. Een goed functionerend zelfstandig behandelcentrum dan wel priv\\xe9-kliniek heeft in het algemeen juist afspraken gemaakt met een naburig ziekenhuis om pati\\xebnten te kunnen overbrengen in geval van complicaties of onvoorziene omstandigheden, wanneer ingrepen nodig zijn die de mogelijkheden van de kliniek te boven gaan. Een dergelijke opname van een pati\\xebnt hoeft zeker niet te wijzen op onzorgvuldig handelen van de behandelaar aldaar. De inspectie is niet bekend met een geautoriseerde landelijke registratie van ic-opnamen na mislukte behandelingen in priv\\xe9-klinieken; zij kan de stelling van de Stichting Informatie Plastische Chirurgie dan ook niet bevestigen of ontkennen. De Wet op de beroepen in de individuele gezondheidszorg (Wet BIG) bepaalt dat uitsluitend de gekwalificeerde, in een register ingeschreven staande arts zichzelf arts mag noemen en de aan de arts voorbehouden handelingen mag verrichten. Om in het BIG-register voor artsen ingeschreven te worden dient men in het bezit te zijn van een getuigschrift waaruit blijkt dat de betrokkene voldoet aan de Nederlandse artsopleidingseisen (kwalificatie). Niet gekwalificeerden worden niet in het BIG-register voor artsen ingeschreven, mogen de beroepstitel niet voeren en geen voorbehouden handelingen verrichten. De registertitelbescherming geldt eveneens voor de fysiotherapeut. Voor specialisten, zoals de KNO-arts, bestaat, naast de verplichte BIG-inschrijving, de mogelijkheid om ingeschreven te staan in het specialistenregister. Cosmetische chirurgie valt volgens artikel 36 van de Wet BIG onder de voorbehouden handelingen. Uitgangspunt is de zelfstandige bevoegdheid van de arts. De bevoegdheid wordt echter beperkt door het vereiste van bekwaamheid. De arts is uitsluitend bevoegd tot het verrichten van een voorbehouden handeling voor zover hij redelijkerwijs beschikt over de bekwaamheid die vereist is voor het behoorlijk uitvoeren van de voorbehouden handeling. In het buitenland opgeleide artsen, fysiotherapeuten en specialisten komen uitsluitend in het BIG-register en in een van de specialistenregisters indien zij aan de Nederlandse opleidingseisen voldoen, dan wel daaraan gelijkwaardig worden geacht. De soms indringende reclame-uitingen van de cosmetische chirurgie zijn niet gebruikelijk in de zorgsector; het gaat hierbij dan ook veelal om commerci\\xeble instellingen. Artsen worden geacht geen reclame voor hun beroepmatig handelen te maken. Zij dienen zich te houden aan de code hieromtrent van de KNMG en van hun specifieke beroepsvereniging. In 1997 heeft de inspectie hierover reeds contact gehad met de Nederlandse Vereniging voor Plastische Chirurgie. Echter de cosmetische chirurgen zijn niet altijd lid van deze beroepsorganisatie en voelen zich daardoor niet gebonden aan deze ethische gedragsregels. Neen, het is mij niet bekend dat in het particuliere cosmetische circuit onverantwoorde ingrepen voorkomen. Het onderzoek van de inspectie kan aan de beantwoording van de vraag in onderhavig geval mogelijk een bijdrage leveren. Het kan natuurlijk niet zo zijn dat commerci\\xeble belangen in dezen zwaarder wegen dan medische en ethische overwegingen. Neen, zoals de inspectie heeft aangegeven zijn er geen signalen die erop wijzen dat er vaker sprake is van onzorgvuldig handelen in dergelijke klinieken. Priv\\xe9-klinieken zijn instellingen waarop de Kwaliteitswet zorginstellingen van toepassing is. De klinieken dienen verantwoorde zorg te leveren. De zorgverleners die in deze instellingen werkzaam zijn (artsen, verpleegkundigen en eventueel fysiotherapeuten) zijn beroepsbeoefenaren op wie de Wet BIG van toepassing is. Zij dienen zich te houden aan de grenzen van hun bekwaamheid. Alleen de arts-chirurg wordt bekwaam geacht om chirurgische ingrepen te verrichten. Daarnaast dienen de priv\\xe9-klinieken zich aan vele andere wetten te houden die er alle op zijn gericht de positie van de pati\\xebnt te optimaliseren. De pati\\xebnten zijn dus zeker niet \\xabvogelvrij\\xbb wanneer zij zich in een priv\\xe9-kliniek laten behandelen. De inspectie houdt toezicht op de naleving van de genoemde wetten. Uit dien hoofde inspecteert zij ook priv\\xe9-klinieken hetzij preventief hetzij naar aanleiding van een melding of een signaal. Omdat in bijvoorbeeld priv\\xe9-klinieken voor cosmetische chirurgie in principe gezonde mensen worden behandeld en de ingrepen bovendien beperkt van omvang zijn en niet zeer risicovol, heeft de inspectie geen eerste prioriteit gelegd bij het preventieve toezicht op die klinieken. Op grond van de kwaliteitswet en de Wet BIG zijn de klinieken en de daarin werkzame beroepsbeoefenaren gehouden te werken overeenkomstig de geldende standaarden. Deze zijn voor de centra voor cosmetische chirurgie niet anders dan voor de reguliere centra. Preventief optreden door het stellen van zwaardere eisen is dan ook niet aan de orde. Neen, het Nederlands instituut voor onderzoek van de gezondheidszorg (NIVEL) heeft in opdracht van de Nederlandse vereniging voor Plastische Chirurgie (NVPC) begin 1999 een onderzoek uitgevoerd naar de beroepskrachtenvoorzieningen van plastische chirurgen. Begin 1999 waren er ongeveer zes volledige (fte\\u2019s) uitbreidingsvacatures voor plastische chirurgen, waarvan drie in academische ziekenhuizen en drie in algemene ziekenhuizen. Het totaal aantal werkzame plastische chirurgen bedroeg begin 1999 in totaal 144, waaronder vier uitsluitend werkzaam in een priv\\xe9-kliniek en 42 in combinatie van priv\\xe9-kliniek en ziekenhuis. De arbeidsreserve was beperkt tot \\xe9\\xe9n plastisch chirurg. Het aantal assistent-geneeskundigen in opleiding tot plastisch chirurg bedroeg 33. De instroomcapaciteit van de opleiding bedraagt thans negen plaatsen. Bij deze instroom zullen er in 2010 176 plastisch chirurgen werkzaam zijn. Dit aantal is volgens het NIVEL-onderzoek voldoende om te kunnen voorzien in de vervangingsvraag en in de toename van de vraag als gevolg van demografische ontwikkelingen. Uit de resultaten van het bovenstaande onderzoek kan dan ook worden geconcludeerd dat er in de komende jaren geen sprake zal zijn van een groeiend tekort aan plastisch chirurgen. Er bestaat sinds jaar en dag een circuit van klinieken voor cosmetische chirurgie. Ik heb geen indicaties dat dit aantal sterk zou toenemen. Overigens is het een vrije keus van de medisch specialist of hij het beroep waarvoor hij heeft geleerd, al dan niet wenst uit te oefenen.',\n",
       "     u'jaar': u' 1999',\n",
       "     u'ministerie': u'Volksgezondheid, Welzijn en Sport',\n",
       "     u'partij': u'SP',\n",
       "     u'titel': u' Vragen over onzorgvuldige medische zorg op het gebied van cosmetische chirurgie in priv\\xe9-klinieken, naar aanleiding van het overlijden van een 27-jarige vrouw die een maand eerder een ingreep had ondergaan in de Rotterdamse priv\\xe9-kliniek Linia (Algemeen Dagblad, 20 november 1999).',\n",
       "     u'vraag': u' Stelt de inspectie een onderzoek in naar de relatie tussen het overlijden van een 27-jarige vrouw ingreep die deze vrouw een maand hiervoor had ondergaan in de Rotterdamse priv\\xe9-kliniek Linia? Zo ja, wanneer is dit onderzoek, en kan de Kamer op de hoogte worden gesteld van de uitkomsten? Is er in priv\\xe9-klinieken vaker sprake van onzorgvuldige medische zorg, als gevolg waarvan mensen terecht komen in de reguliere zorg? Heeft u inzicht in welke omvang dit gebeurt? Wat is uw reactie op de stelling van de Stichting Informatie Plastische Chirurgie dat elk jaar 20 mensen op de intensieve care belanden door infecties of verminkingen door mislukte behandelingen in priv\\xe9-klinieken? Is het waar dat de priv\\xe9-klinieken ook gebruik maken van niet-gekwalificeerde artsen, bijvoorbeeld basisartsen, KNO-artsen en fysiotherapeuten, veelal afkomstig uit het buitenland? Erkent u dat er in de cosmetische chirurgie sprake is van een ongebreidelde en agressieve vorm van marketing? Zo ja, wat kunt u hier tegen doen? Kunt u beamen dat de operaties die in de reguliere zorg niet verantwoord worden gevonden, in het particuliere cosmetische circuit soms wel worden uitgevoerd? Zo ja, vindt u het ethisch en medisch verantwoord indien commerci\\xeble belangen zwaarder wegen dan medische en ethische overwegingen? Erkent u dat er in een aantal klinieken sprake is van beunhazerij, waarbij de rekening van de opgelopen medische schade gepresenteerd wordt aan de collectieve zorg? Zo ja, vindt u dat terecht? Welke mogelijkheden zijn er om de kosten te verhalen op de betrokken priv\\xe9-klinieken? Beaamt u dat de inspectie achter de feiten aanloopt, omdat ze pas in actie komt als er sprake is van onverantwoorde zorg? Zijn pati\\xebnten in feite vogelvrij omdat priv\\xe9-klinieken in eerste instantie kunnen doen en laten wat ze willen? Zo ja, bent u bereid meer preventief op te treden door toelatingseisen in te voeren en hogere kwaliteitseisen te stellen voor particuliere instellingen die cosmetische operaties verrichten? Is er een groeiend tekort aan plastische chirurgen voor noodzakelijke plastische chirurgie, met als gevolg dat verkeersslachtoffers en bepaalde kankerpati\\xebnten met hoge urgentie toch maandenlang op een wachtlijst staan? Is er sprake van een aanzuigende werking vanuit het commerci\\xeble circuit, omdat men hier minder gebonden is aan strakke overheidsregulering en men met eenvoudiger ingrepen snel meer kan verdienen dan in de collectieve sector? Zo ja, vindt u dit maatschappelijk acceptabel zeker gezien de lange wachtlijsten voor noodzakelijke plastische chirurgie en indien nee, hoe kunt u deze uittocht voorkomen? Algemeen Dagblad, 20 november 1999 Algemeen Dagblad, 19 november 1999'},\n",
       "    u'_type': u'motie'},\n",
       "   {u'_id': u'KVR10772',\n",
       "    u'_index': u'moties',\n",
       "    u'_score': 1.0,\n",
       "    u'_source': {u'antwoord': u' De regering is op de hoogte van berichten uit de staat Bayelsa over gevechten tussen Ijaw-jongeren onderling, over de moord op 12 politieagenten en over de inzet van militairen. Over de precieze gang van zaken bestaat nog geen duidelijkheid. President Obasanjo heeft de Gouverneur van de staat Bayelsa een ultimatum gesteld, betreffende het uitroepen van de noodtoestand, nl. op 24 november diende de rust en orde in het gebied hersteld te zijn en de moordenaars van 12 politieagenten zouden gevonden moeten zijn. Het ultimatum is inmiddels verstreken, terwijl de noodtoestand niet is uitgeroepen. De Nigeriaanse regering stelt dat de troepen waren ingezet om orde en rust te herstellen in een situatie van bijna anarchie, veroorzaakt door georganiseerde, zwaar bewapende misdadigers die ook de eigen bevolking terroriseren. Volgens de laatste berichten zijn de militairen thans vervangen door speciale politie-eenheden. De minister van Buitenlandse Zaken zal in de loop van het volgende jaar een bezoek brengen aan Nigeria. Te zijner tijd zal de opportuniteit van een bezoek aldaar worden bezien. Als een van zijn eerste beleidsdaden, na de inauguratie op 1 juni van dit jaar, heeft President Obasanjo het ontwerp voor de Niger Delta Development Bill ingediend, daarmee het belang onderstrepend dat hij hecht aan de ontwikkelingen in de Delta. Het Parlement heeft het wetsontwerp zeer recent goedgekeurd. Bilaterale steun van de Nederlandse regering via toelating van Nigeria tot respectievelijk de themalijst Mensenrechten, Vredesopbouw en Goed Bestuur en de themalijst Milieu wordt niet overwogen. Een Nederlands programma zou weinig toevoegen aan de reeds bestaande omvangrijke hulpprogramma\\u2019s van de Europese Commissie, particuliere fondsen als die van Shell (US$ 40 mln.) en de extra middelen die de Nigeriaanse regering inmiddels zelf ter beschikking heeft gesteld voor het gebied (US$ 50 mln.). De mogelijkheden voor Nederland om de problematiek in de Niger-delta aan te pakken worden vooral gezocht in EU-verband en in multilateraal kader. De minister voor Ontwikkelingssamenwerking is bereid te onderzoeken of ook de Wereldbank expliciet bij de ontwikkeling van het gebied betrokken kan worden. De Ambassade in Abuja beschikt vanaf 2000 overigens over een budget (NLG 500 000,\\u2013) voor activiteiten via particuliere kanalen op het gebied van mensenrechten in Nigeria. Nederland ondersteunt het voorstel van de Europese Commissie met betrekking tot het opzetten van een micro-projecten-programma in de Niger Delta. Dit programma heeft een omvang van totaal 21 miljoen Euro. De projecten doelen onder andere op verbetering van kleinschalige infrastructuur, verbetering van de basisgezondheidszorg, ondersteuning van het onderwijssysteem, het opzetten van wijkcentra en het verlenen van micro-kredieten. Ook in hulp bij de ontwikkeling van vaardigheden en het opzetten van jongerencentra wordt door het programma voorzien. De fondsen uit de budgetlijn mensenrechten (waarvan er overigens meerdere zijn) worden thans reeds op beperkte schaal gebruikt om mensenrechten-NGO\\u2019s in de Delta te steunen (Mosop, IHRL). De EU is thans doende om een Human Rights Foundation op te zetten in Nigeria. Deze Foundation zal verantwoordelijk worden voor de EU-mensenrechtenprojecten in Nigeria. Overigens zal deze foundation over heel Nigeria projecten uitvoeren. Andere gebieden in Nigeria, die minder in de publiciteit staan, hebben evenzeer behoefte aan mensenrechtenondersteuning. Het is duidelijk dat in de Niger Delta snel een begin moet worden gemaakt met doeltreffende (conflict-preventieve) maatregelen zoals de verbetering van de sociaal-economische situatie, het genereren van werk en inkomen en verbeteringen aan de infrastructuur. De EU-projecten zijn een goede stap in die richting en een aanvulling op de door de Nigeriaanse regering afgekondigde maatregelen. Het stimuleren van onderlinge samenwerking tussen b.v. de Ogoni en Ijaw-jongeren zit in de EU-projecten verweven. Eventuele verzoeken aan de Europese Commissie van NGO\\u2019s en volkerenorganisaties uit het Delta-gebied voor steun aan een Pan Nigeria Delta Conferentie, kunnen in beginsel op Nederlandse steun rekenen. Nederland is bereid een onafhankelijk onderzoek naar de milieuproblematiek in de Delta te helpen bevorderen. Ook Shell is voorstander van een dergelijk onderzoek. Aan de VN (UNDP) is recent gevraagd naar de mogelijkheden hiertoe.',\n",
       "     u'jaar': u' 1999',\n",
       "     u'ministerie': u'Buitenlandse Zaken',\n",
       "     u'partij': u' D66',\n",
       "     u'titel': u' Vragen over de verslechterde veiligheids- en mensenrechtensituatie in de Niger delta, naar aanleiding van de recente opleving van de strijd tussen ljaw-jongeren en het Nigeriaanse leger, dat opnieuw is ingezet in Bayelsa State, en over de problemen als gevolg van de oliewinning. Deze vragen dienen ter aanvulling op de eerdere vragen van het lid Karimi (Aanh. Hand. II, 1999-2000, nr. 404).',\n",
       "     u'vraag': u' Bent u op de hoogte van de recente opleving van de strijd tussen Ijaw-jongeren en het Nigeriaanse leger, dat opnieuw is ingezet in Bayelsa State (Niger delta)? Bent u er van op de hoogte dat President Obasanjo heeft gedreigd om de noodtoestand in Bayelsa State uit te roepen? Deelt u de mening dat zowel het sturen van (extra) troepen naar de delta als het uitroepen van noodtoestand aldaar de veiligheids- en mensenrechtensituatie uitsluitend verslechteren? Bent u bereid om zowel bilateraal als in EU-verband druk op de Nigeriaanse regering uit te oefenen om de troepen terug te trekken uit het gebied en niet de noodtoestand uit te roepen? Is er een voornemen bij \\xe9\\xe9n van u voor een bezoek? Zo ja, bent u dan bereid om de Niger delta te bezoeken? Bent u bereid om bij de Nigeriaanse regering het belang te benadrukken van de Niger delta Development Bill, ten gunste van de deltabevolking en ter preventie van verdere escalatie van de conflicten in de delta? Is de minister voor Ontwikkelingssamenwerking bereid om Nigeria op te nemen in de programma\\u2019s voor Mensenrechten, Vredesopbouw en Goed Bestuur, alsmede Milieu? Kunnen specifieke bijdrages op het vlak van milieu (bijvoorbeeld MER\\u2019s voor aanleg infrastructuur, bescherming mangrovebossen, schoon drink- en viswater) en mensenrechten/goed bestuur (training politie, justitie, ambtenaren, steun aan Oputa Justice Panel, anti-corruptie wetgeving) volgens u bijdragen aan een substanti\\xeble verbetering van de situatie in Nigeria respectievelijk de Niger delta? Liggen hier mogelijkheden voor specifieke bijdrages vanuit Nederland? Bent u bereid om u in te zetten opdat de EU-gelden die nu beschikbaar zijn voor Nigeria geconcentreerd worden op de Niger delta, o.a. met betrekking tot de fondsen uit de budgetlijn mensenrechten? Bent u bereid om de Nederlandse intentie om op het vlak van ontwikkelingssamenwerking in Nigeria de EU intensief te laten samenwerken met Shell op korte termijn te concretiseren? Wat zijn de laatste ontwikkelingen op dit vlak? Waar ziet u concrete mogelijkheden op korte termijn? Ligt het voor de hand dat, gezien de medeverantwoordelijkheid van de olie-industrie bij de milieu- en ontwikkelingsproblemen in de Niger delta, gezamenlijke projecten met name op het vlak van natuur- en milieubescherming alsmede armoedebestrijding plaatsvinden? Ziet u mogelijkheden om specifieke activiteiten voor jongeren in de Niger delta te helpen faciliteren, zoals vaardighedencentra en jongerencentra? Kunnen initiatieven van bijvoorbeeld deelstaatregeringen in de delta om speciale jongerenwerkers bij conflicten tussen jongerengroepen en oliemaatschappijen in te zetten, vanuit Nederland of de EU actief ondersteund worden? Bent u bereid u in te spannen dat de EU NGO\\u2019s en volkerenorganisaties van bijvoorbeeld de Ijaw en Ogoni ondersteunt en stimuleert in onderlinge samenwerking, door middel van het helpen faciliteren van een soort van (hernieuwde) \\xabPan Niger Delta Conferentie\\xbb? Zo niet, ziet u andere mogelijkheden om vanuit Nederland en/of de EU de onderlinge conflicten tussen de deltavolkeren \\u2013 onderling en met oliemaatschappijen \\u2013 te helpen verminderen?'},\n",
       "    u'_type': u'motie'},\n",
       "   {u'_id': u'KVR10777',\n",
       "    u'_index': u'moties',\n",
       "    u'_score': 1.0,\n",
       "    u'_source': {u'antwoord': u' Ja. Op dit moment bepaalt het IVF-centrum zelf (op basis van een protocol dat in samenspraak met de lokale ethische commissie tot stand is gekomen) of tevoren screening op HIV plaats vindt na toestemming van het paar. In sommige centra wordt iedereen getest en in sommige centra wordt alleen op indicatie getest. Het testen vindt alleen plaats na verkregen toestemming. Ik vind het niet wenselijk dat een IVF-behandeling wordt gestart bij HIV-positieve vrouwen, aangezien er niet kan worden uitgesloten dat de huidige medicamenten de ontwikkeling van een misgeboorte ten gevolge kunnen hebben. Uit de mij bekende informatie is in de bestaande IVF-klinieken tot nog toe geen IVF-behandeling bij HIV-positieve vrouwen toegepast. In verband met het risico op besmetting in geval van cryopreservatie van embryo\\u2019s heeft de Nederlandse Vereniging van Obstetrie en Gynaecologie (NVOG) reeds afgesproken dat altijd tevoren op HIV moet worden getest, en in geval van seropositiviteit van cryopreservatie moet worden afgezien. Dit is ook vastgelegd in de protocollen van de IVF-klinieken. Ik heb de door u gesignaleerde problematiek onder de aandacht van de Nederlandse Vereniging van Obstetrie en Gynaecologie (NVOG) gebracht. De NVOG zal het HIV-screeningsbeleid in de verschillende centra inventariseren en opnieuw aan de orde stellen en waar nodig de bestaande richtlijn voor de IVF-behandeling aanpassen. De NVOG heeft voldoende aandacht voor infectieziektes en de risico\\u2019s van besmetting. Waar nodig wordt de richtlijn voor de IVF-behandeling aangepast en ook in de protocollen van de IVF-instellingen neergelegd. Er is op dit moment sprake van een transmissierisico van 1%. Ik vind dit een groot risico met betrekking tot het te verwekken kind. Het is overigens nog niet duidelijk hoe de behandeling van HIV er over enkele jaren uit zal zien. Het is denkbaar dat nieuwe resistente virusstammen ontstaan en het beleid van de IVF-centra zal ook daarop afgestemd moeten zijn. Er kan niet worden uitgesloten dat de huidige medicamenten de ontwikkeling van een misgeboorte ten gevolge kunnen hebben. Daarom vind ik het starten van een IVF-behandeling bij vrouwen die HIV-positief zijn niet wenselijk. De normstelling bij het al dan niet starten van een IVF-behandeling bij HIV-positieve vrouwen dient net als bij overige behandelvormen bij de beroepsgroep te liggen en in de vorm van protocollen c.q. richtlijnen te zijn vastgelegd. Gezien de huidige stand van zaken, heb ik voldoende redenen om aan te nemen dat het belang van het kind centraal staat. Neen. Het al dan niet verlenen van een IVF-behandeling dient op basis van protocollen c.q. richtlijnen te geschieden. Bij de beantwoording van uw vraag maak ik onderscheid tussen verantwoordelijkheid voor de behandeling en het al dan niet informeren over eventuele risico\\u2019s van de behandeling. De behandelende arts is altijd verantwoordelijk voor de behandeling. Bij de beslissing om al dan niet te behandelen, wordt een eventueel risico voor de vrucht mee in overweging genomen. Indien de arts het risico voor de vrucht medisch gezien niet verantwoordelijk vindt, zal hij niet tot behandeling overgaan. De pati\\xebnt moet conform de WGBO uitvoerig worden ge\\xefnformeerd, ook over eventuele risico\\u2019s, op basis waarvan de pati\\xebnt beslist al dan niet toestemming te geven. De behandelend arts kan indien hij handelt in strijd met goed hulpverlenerschap (handelen met inachtneming van protocollen e.d.) in omstandigheden civiel- en tuchtrechtelijk worden aangesproken en soms zelfs strafrechtelijk. Onvoldoende informeren van de pati\\xebnt over eventuele risico\\u2019s voor de vrucht kan bijvoorbeeld een reden zijn voor een civiel- of tuchtrechtelijke klacht. Laat de arts na op HIV te testen indien dit aangewezen is, dan geldt hetzelfde.',\n",
       "     u'jaar': u' 1999',\n",
       "     u'ministerie': u'Volksgezondheid, Welzijn en Sport',\n",
       "     u'partij': u'CDA',\n",
       "     u'titel': u' Vragen naar aanleiding van het televisieprogramma NOVA van 11 november 1999 over het feit dat sommige IVF-klinieken vrouwen testen op HIV en andere niet, en het feit dat sommige IVF-klinieken vrouwen die drager van het HIV-virus zijn wel een IVF-behandeling geven en andere niet.',\n",
       "     u'vraag': u' Bent u op de hoogte van het feit dat sommige IVF-klinieken vrouwen testen op HIV en andere niet? Wat vindt u van het feit dat sommige IVF-klinieken vrouwen die drager van het HIV-virus zijn wel een IVF-behandeling geven en andere IVF-klinieken dat niet doen? Bent u van mening dat, zolang er onduidelijkheid bestaat over het overdrachtsrisico, IVF-behandeling bij vrouwen die drager van het HIV-virus zijn moet worden geweigerd? Kunt u duidelijkheid geven over de overdrachtsrisico\\u2019s, ook die welke samenhangen met mogelijk nieuwe, resistente, virusstammen? Kunt u duidelijkheid geven over de eventuele risico\\u2019s die de therapie die de HIV-draagster volgt kan meebrengen voor de vrucht? Bent u van mening dat de overheid normstellend behoort te zijn daar waar het gaat om het al dan niet verlenen van een IVF-behandeling aan dragers van het HIV-virus of vindt u dat die normstelling bij artsen, klinieken of de wensmoeder hoort te berusten? Bent u van mening dat bij de huidige stand van zaken het belang van het kind centraal staat? Acht u de wens van de wensmoeder en drager van het HIV-virus bepalend voor het al dan niet verlenen van een IVF-behandeling? Acht u de behandelend arts verantwoordelijk voor de eventuele risico\\u2019s die de behandeling voor de vrucht met zich mee kunnen brengen? NOVA, 11 november 1999'},\n",
       "    u'_type': u'motie'},\n",
       "   {u'_id': u'KVR1078',\n",
       "    u'_index': u'moties',\n",
       "    u'_score': 1.0,\n",
       "    u'_source': {u'antwoord': u' Er zijn meer dan 17 000 bezwaren ingediend. De mogelijkheid tot het indienen van een bezwaarschrift tegen een aanwijzingsbesluit is nieuw en een direct gevolg van de door de Kamer geaccordeerde Algemene wet bestuursrecht (Awb). Of e\\xb4e\\xb4n en ander zal leiden tot volledige verstopping van de rechtsbescherming hangt af van de aantallen beroepschriften die zullen worden ingediend. De mogelijkheid tot het indienen van een beroepschrift staat immers los van de gegrondheid c.q. ontvankelijkheid van het beroep. Of de Raad van State in de beroepsfase e\\xb4e\\xb4n en ander kan verwerken hangt af van de daar aanwezige capaciteit. Knelpunten zijn niet uit te sluiten. De achterliggende doelstelling van de ingevolge de Awb te doorlopen bezwaarschriftenprocedure is onder meer geweest de mogelijke zeefwerking die hiervan \\u2013 voor wat betreft het aantal in te dienen beroepen \\u2013 kan uitgaan. Uiteraard is en wordt \\u2013 in de bezwaarfase \\u2013 gepoogd middels het vaststellen van kwalitatief zo hoogwaardig mogelijke aanwijzingsbesluiten het aantal appellanten zo klein mogelijk te doen laten zijn. Verwacht wordt dat na behandeling van de bezwaarschriften bedoelde zeefwerking voor de daaropvolgende beroepsfase haar effecten zal hebben. Daardoor zou recht gedaan worden aan de bedoelingen van de Awb hieromtrent. Met betrekking tot de Betuweroute wordt een zorgvuldige procedure gevolgd met intensieve voorbereiding, uitgebreide onderbouwing en checks en herchecks door kabinet en parlement. Het is niet te voorzien in hoeverre deze zorgvuldigheid zal leiden tot acceptatie van het besluit bij projecten van nationaal belang als de Betuweroute, waarbij het nationaal belang contrasteert met het individuele belang, in die zin, dat de voordelen zich met name bevinden op het (inter)nationale niveau en de nadelen op het regionale niveau. Er is ten tijde van de tervisielegging van de ontwerp-aanwijzing ingevolge de destijds vigerende luchtvaartwetgeving in ruime mate de mogelijkheid geboden voor inspraak. Gelet op het aantal ingebrachte reacties (30 000) is hiervan massaal gebruik gemaakt, door belanghebbenden in het algemeen en belangenorganisaties in het bijzonder. Voorzover relevant binnen de aangegeven wettelijke en politieke kaders zijn de inspraakreacties verwerkt in de thans voorliggende aanwijzingsbesluiten. Veel bezwaarschriften zijn \\u2013 alhoewel niet hoofdzakelijk \\u2013 mede gericht op schade en nadeel. Uit de inhoud en formulering van de bezwaarschriften \\u2013 die in zeer algemene standaardbewoordingen zijn gesteld \\u2013 kan niet worden afgeleid dat de bezwaren zijn ingediend om redenen van onduidelijkheid en onzekerheid over de afwikkeling van schade en nadeel. In de gepubliceerde aanwijzingsbesluiten is aangegeven langs welke weg vergoeding voor schade verkregen kan worden. Een ieder heeft daar kennis van kunnen nemen. Misverstanden zijn ontstaan, onder meer door onjuiste berichtgeving in de pers, over de te doorlopen procedure om in aanmerking te komen voor een schadevergoeding. Schadeclaims worden behandeld overeenkomstig de procedures zoals die zijn opgenomen in de aanwijzingsbesluiten. Het is zeer wel denkbaar dat niet alle schadeclaims worden gehonoreerd. Uiteraard kan een ieder \\u2013 de kring van gelaedeerden wordt niet beperkt \\u2013 die meent onevenredige schade te lijden als gevolg van de onderhavige besluiten een claim indienen. Het hiervoor onder antwoord 2 gestelde ten aanzien van de gegrondheid en ontvankelijkheid geldt mutatis mutandis. Er dient causaal verband te bestaan tussen het (heroverwogen) besluit en de geleden schade. Op basis van die causaliteit en nadat de aanwijzingsbesluiten rechtens onaantastbaar zijn geworden, kan de werkelijke omvang van schade worden vastgesteld. Zeker is dat ondanks het rechtmatige karakter van de besluiten, bepaalde mensen als gevolg ervan schade zullen lijden. Hiertoe, het zij nogmaals gezegd, is in de aanwijzingsbesluiten aangegeven langs welke weg gelaedeerden een claim tot schadevergoeding kunnen indienen. Wel bestaat er inzicht in de aard van de claims. De omvang van de claims staat aan het indienen van bezwaren en mogelijke beroepen bij de rechter niet in de weg. Er zijn onder de bezwaarden ook gemeenten, die vrezen met (een belangrijk deel) de financie\\xa8le gevolgen van het aanwijzingsbesluit te worden belast. De vrees van de gemeenten, als bedoeld in vraag 7, is ongegrond. Het Rijk heeft reeds te kennen gegeven dat zij het in beginsel financieel garant stelt voor de financiering van planschade en nadeelcompensatieclaims (zie artikel 10 van het aanwijzingsbesluit ex artikel 26 Luchtvaartwet en artikel 23 uit het aanwijzingsbesluit ex artikel 24 juncto artikel 27 Luchtvaartwet). Alleen de kosten gepaard gaande met de aanpassing van de betreffende bestemmingsplannen als gevolg van de aanwijzingsbesluiten zal door de gemeenten zelf gedragen moeten worden (zie artikel 8 van het aanwijzingsbesluit ex artikel 26 Luchtvaartwet). Voorzover nu kan worden overzien zijn er geen procedurefouten gemaakt. De Afdeling bestuursrechtspraak van de Raad van State zal tot vernietiging overgaan als daar gegronde redenen voor zijn en niet omdat zij overspoeld wordt door beroepen. Het toetsingskader van de Raad van State ligt vast in de wet, de jurisprudentie. De wijze waarop de Raad zijn toetsingskader zal hanteren is niet ter inschatting of beoordeling dezerzijds. Het spreekt voor zich dat gevolg wordt gegeven aan de uitspraak van de Raad van State.',\n",
       "     u'jaar': u' 1995',\n",
       "     u'ministerie': u'Verkeer en Waterstaat',\n",
       "     u'partij': u'GroenLinks',\n",
       "     u'titel': u' De vragen betreffen de inspraakprocedure, aantallen bezwaarschriften en mogelijke beroepszaken en schadeclaims als gevolg van het AAnwijzingsbesluit.',\n",
       "     u'vraag': u' Zijn tegen het Aanwijzingsbesluit inzake een nieuwe Oost-Westbaan op de luchthaven Maastricht door de omwonenden meer dan 17.000 bezwaarschriften ingediend? Moet bij deze aantallen van bezwaar en mogelijk daarop volgend beroep bij de rechter niet ernstig worden gevreesd voor volledige verstopping van de rechtsbescherming tegen dit soort ingrijpende besluiten? Verwacht u een dergelijke verstopping ook bij de aanleg van de Betuwelijn en andere trace\\xb4-besluiten? Moet uit dit aantal niet de conclusie worden getrokken dat de inspraakrondes in dit soort aangelegenheden onvoldoende effectief zijn als \\xabfilter\\xbb voor het beroep op de rechter? Worden de mogelijkheden voor vooroverleg met de belanghebbenden, in het bijzonder de woordvoerende groeperingen zoals milieuorganisaties, wel voldoende benut? Is met name wegens onduidelijkheid en onzekerheid over de afwikkeling van schade en nadeel als gevolg van het Aanwijzingsbesluit door vele appellanten bezwaar aangetekend? Zijn deze aantallen volgens u indicatief voor de te verwachten schadeclaims bij onherroepelijk worden van het Aanwijzingsbesluit? Waarom is niet de omvang van deze claims ge\\u0131\\xa8nventariseerd alvorens het besluit is genomen? Zijn daardoor niet wellicht vele onnodige bezwaren en mogelijke beroepen bij de rechter gecree\\xa8erd? Zijn onder de bezwaarden ook besturen van gemeenten, die vrezen met (een belangrijk deel van) de financie\\xa8le gevolgen van het Aanwijzingsbesluit te worden belast? Bent u met prof. Tak van oordeel, dat de in de vragen 6. en 7. genoemde schade uitsluitend moet worden gezien als schade ten gevolge van het Aanwijzingsbesluit, en niet als schade die het gevolg is van de hierop verplichte aanpassing van bestemmingsplannen, zodat uitsluitend het Rijk, en niet de betreffende gemeenten deze schade voor haar rekening behoort te nemen? Is het mogelijk dat de rechter, overspoeld door beroepszaken over afgewezen bezwaarschriften tegen het Aanwijzingsbesluit, dit Aanwijzingsbesluit zal vernietigen, op grond van procedurele fouten ? Op welke manier houdt u hier rekening mee? door prof. Tak op verzoek van de Kamer uitgebrachte opinie, 20 september 1994 De Volkskrant, 16 januari 1995'},\n",
       "    u'_type': u'motie'},\n",
       "   {u'_id': u'KVR10784',\n",
       "    u'_index': u'moties',\n",
       "    u'_score': 1.0,\n",
       "    u'_source': {u'antwoord': u' Ja. Dit artikel is verschenen naar aanleiding van een pas verschenen boek van prof. Imelman e.a. waarin kritiek wordt geleverd op het studiehuis. Nee. Een dergelijk onderzoek bestaat niet. De heer Zunderdorp is hier verkeerd geciteerd; hij heeft slechts willen verwijzen naar verschillende verwachtingen die hieromtrent in de discussie worden uitgesproken. Nee.',\n",
       "     u'jaar': u' 1999',\n",
       "     u'ministerie': u'Onderwijs, Cultuur en Wetenschap',\n",
       "     u'partij': u' D66',\n",
       "     u'titel': u\" Vragen naar aanleiding van het artikel ''Het onderzoek dat verzwegen moest worden'' in HP/De Tijd van 10 december 1999, over een verzwegen onderzoek in opdracht van het Procesmanagement Voortgezet Onderwijs (PMVO) over het studiehuis in de Tweede Fase van het voortgezet onderwijs. Deze vragen dienen ter aanvulling op de eerdere vragen ter zake van het lid Cornielje (Aanh. Hand. II, 1999-2000, nr. 469).\",\n",
       "     u'vraag': u' Kent u het artikel \\xabHet onderzoek dat verzwegen moest worden\\xbb? Is dit het onderzoek waar de heer Zunderdorp, voorzitter van het procesmanagement voortgezet onderwijs, in NRC Handelsblad van 24 november jl. naar verwijst als hij zegt dat uit niet gepubliceerd onderzoek is gebleken dat 20% meer leerlingen zouden afvallen in de tweede fase? Had de heer Imelman op 7 september 1998 tijdens het debat \\xabHeimwee naar de HBS\\xbb in de Balie te Amsterdam een spreekverbod van het PMVO of is hem op een andere wijze door het PMVO duidelijk gemaakt dat hij zijn onderzoeksresultaten beter kon verzwijgen? HP/De Tijd, 10 december 1999'},\n",
       "    u'_type': u'motie'},\n",
       "   {u'_id': u'KVR10789',\n",
       "    u'_index': u'moties',\n",
       "    u'_score': 1.0,\n",
       "    u'_source': {u'antwoord': u' Ja. Het niet volledig millenniumbestendig zijn van de alarmcentrale van de regionale brandweer Amsterdam en Omstreken betreft \\xe9\\xe9n onderdeel binnen deze alarmcentrale. Dit onderdeel is het meldkamersysteem (ARBAC). De software van het meldkamersysteem is medio 1999 getest en millenniumbestendig bevonden. Eind september 1999 bleek dat, in geval van een z.g. systeem-crash, er na de jaarwisseling een probleem kan optreden. Dit probleem is recentelijk verholpen. De aangepaste software is grondig getest en is door de leverancier die in opdracht van Binnenlandse Zaken en Koninkrijksrelaties het onderhoud aan de ARBAC-software verricht ondertussen verspreid naar alle regio\\u2019s die ARBAC gebruiken. Na installatie van deze software (gepland in week 49) zal het probleem verholpen zijn. Het ARBAC-systeem is in gebruik bij 17 van de 39 brandweerregio\\u2019s. Daar het een generiek probleem betrof hebben al deze regio\\u2019s hetzelfde probleem met ARBAC. De overige brandweerregio\\u2019s gebruiken ARBAC niet en kennen dit probleem daarom niet. Ja, alle vitale (landelijke) systemen in de meldkamers zijn getest en millenniumbestendig bevonden. Aan de hand van de vanuit de regio\\u2019s verkregen informatie kan deze vraag bevestigend beantwoord worden. Aan de hand van de uit het land verkregen informatie zijn de vitale functies van de brandweerkorpsen gewaarborgd tijdens en na de millenniumwisseling.',\n",
       "     u'jaar': u' 1999',\n",
       "     u'ministerie': u'Binnenlandse Zaken',\n",
       "     u'partij': u'PvdA',\n",
       "     u'titel': u' Vragen naar aanleiding van een artikel in Het Parool van 22 november 1999 over het feit dat de alarmcentrale van de Amsterdamse brandweer niet millenniumbestendig is.',\n",
       "     u'vraag': u' Heeft u kennis genomen van het feit dat de alarmcentrale van de Amsterdamse brandweer niet millenniumbestendig is? Klopt het dat de Amsterdamse brandweer afhankelijk is van door het ministerie van Binnenlandse Zaken aan te leveren software? Zo ja, wanneer wordt deze software aangeleverd? Welke meldkamers van brandweerkorpsen in andere regio\\u2019s hebben ook met deze problematiek te kampen? Zijn de meldkamers van alle brandweerkorpsen in Nederland op 31 december 1999 millenniumbestendig? Hebben de meldkamers van alle brandweerregio\\u2019s noodscenario\\u2019s klaar liggen en oefeningen gehouden? Zijn de andere vitale functies van de brandweerkorpsen rond de eeuwwisseling millenniumbestending? Het Parool, 22 november 1999'},\n",
       "    u'_type': u'motie'},\n",
       "   {u'_id': u'KVR10809',\n",
       "    u'_index': u'moties',\n",
       "    u'_score': 1.0,\n",
       "    u'_source': {u'antwoord': u' Ja, ik heb kennis genomen van het boek en van het begeleidend persbericht waarin wordt aangegeven dat \\u2013 volgens de schrijfster van het boek \\u2013 mensen met een schuldverleden problemen zouden ondervinden bij het openen van een bankrekening. Het is mij niet bekend dat er grote groepen mensen bestaan, die worden uitgesloten van het maatschappelijk verkeer doordat zij geen bankrekening zouden mogen openen. De banken, in het bijzonder de banken met een uitgebreid kantorennet (netbanken), zijn zich terdege bewust van het feit dat er een bepaalde maatschappelijke verantwoordelijkheid op hen rust, aangezien het kunnen beschikken over een bankrekening als basisvoorziening kan worden beschouwd. Dit betekent dat in beginsel elke meerderjarige die woonachtig is in Nederland en die zich, mede op grond van de Wet identificatie financi\\xeble dienstverlening 1993, kan legitimeren een bankrekening kan openen. De Nederlandse Vereniging van Banken heeft mij desgevraagd dan ook nogmaals bevestigd, dat het niet voorkomt dat de banken mensen categorisch zouden weigeren. Aangezien de banken commerci\\xeble instellingen zijn, hebben zij de vrijheid om te bepalen met wie ze in zee gaan. Hierdoor kunnen in individuele gevallen potenti\\xeble cli\\xebnten worden geweigerd. Bij het openen van een bankrekening wordt, naast de genoemde controle van de legitimatie en registratie van de adresgegevens, veelal de kredietwaardigheid van de potenti\\xeble cli\\xebnt gecontroleerd. De Nederlandse Vereniging van Banken heeft mij echter bevestigd dat dit uitsluitend tot doel heeft, te beoordelen of aan de betaalrekening een kredietfaciliteit kan worden gekoppeld en of gegarandeerde betaalmiddelen kunnen worden verstrekt. Het feit dat bij een individuele cli\\xebnt zich in het verleden problemen hebben voorgedaan met de kredietverlening is niet zonder meer een reden tot het weigeren van een bankrekening zonder kredietfaciliteit. De banken maken hier per geval een beoordeling. Overigens zijn er wel andere, specifieke omstandigheden die het openen van een betaalrekening kunnen belemmeren. Zo kunnen mensen zonder een vaste woon- of verblijfplaats moeite ondervinden bij het aantonen dat zij in Nederland woonachtig zijn. Voor dergelijke gevallen wordt door de banken, eventueel in overleg met de overheid, veelal gestreefd naar een praktische oplossing. Zo fungeren diverse instellingen voor dak- en thuislozen als postadres voor cli\\xebnten, zodat deze cli\\xebnten gebruik kunnen maken van voorzieningen waarvoor een postadres als voorwaarde geldt. Teneinde te onderzoeken of voor mensen zonder vaste woon- of verblijfplaats een meer structurele oplossing is te vinden, ben ik reeds met de Nederlandse Vereniging van Banken in contact getreden. U zult over de uitkomst hiervan worden ge\\xefnformeerd.',\n",
       "     u'jaar': u' 1999',\n",
       "     u'ministerie': u'Financien',\n",
       "     u'partij': u'SP',\n",
       "     u'titel': u\" Vragen over de kennelijke weigering van banken om mensen met een uitkering, een schuldverleden en andere ''kansarmen'' een bankrekening te geven, naar aanleiding van een boek van een functionaris van het Leger des Heils en eerdere Kamervragen over de gedragslijn van de VSB-bank tegenover uitkeringsgerechtigden (Aanhangsel Handelingen nr. 815, Vergaderjaar 1997-1998).\",\n",
       "     u'vraag': u' Hebt u kennisgenomen van het boek \\xabZolang er mensen zijn die...\\xbb van Luitenant-kolonel Ine Voorham van het Leger des Heils? Kunt u bevestigen dat er een grote groep mensen bestaat die in toenemende mate wordt uitgesloten van maatschappelijk verkeer doordat zij geen bankrekening mogen hebben en zodoende moeilijkheden ondervinden met het betalen van essenti\\xeble zaken zoals een huur- en energienota en ziekenfondspremie? Zo ja, vormt dat dan niet een belemmering voor hun terugkeer in de maatschappij? Bent u bereid hiervoor een oplossing te zoeken? Herinnert u zich de antwoorden op kamervragen over het beleid van de VSB-bank ten aanzien van mensen met een uitkering, waarin werd gesteld dat het volgens de VSB-bank \\xabniet meer voorkomt dat mensen met een uitkering categoriaal worden geweigerd\\xbb? Zo ja, bent u bereid dit na te gaan voor bovengenoemde groep en bent u bereid te onderzoeken hoe overige banken met deze mensen omgaan? Persbericht Leger des Heils, 18 november 1999 Aanhangsel Handelingen, nr. 815, Vergaderjaar 1997\\u20131998.'},\n",
       "    u'_type': u'motie'},\n",
       "   {u'_id': u'KVR10811',\n",
       "    u'_index': u'moties',\n",
       "    u'_score': 1.0,\n",
       "    u'_source': {u'antwoord': u' Ik heb kennisgenomen van de artikelen over de ontslagvoornemens van Douwe Egberts en Campina Melkunie. Uit deze artikelen blijkt dat beide bedrijven voor deze ontslagen bedrijfseconomische ontslagredenen aanvoeren. Het is niet aan mij om te beoordelen of de voorgenomen ontslagen van oudere werknemers op oneigenlijke gronden worden gebaseerd. Dit is voorbehouden aan de daartoe bevoegde instanties, waaronder de kantonrechter. Het is in het kader van de procedures op grond van artikel 685 van Boek 7 van het Burgerlijk Wetboek niet ongebruikelijk dat de werkgever bij het ontbindingsverzoek een vergoeding aanbiedt. In veel gevallen is de hoogte van de aangeboden vergoeding de uitkomst van een onderhandelingsproces tussen werkgever en werknemer. De aangeboden vergoeding heeft niet als oogmerk de kantonrechter ertoe te brengen tot ontbinding, over te gaan. De kantonrechter kan immers ook op eigen initiatief een ontbindingsvergoeding toekennen. De aangeboden vergoeding cre\\xebert wel voor partijen vooraf duidelijkheid over de financi\\xeble gevolgen van de ontbinding. De werknemer beslist of hij de aangeboden vergoeding al dan niet accepteert. Indien de werknemer medewerking verleent aan de be\\xebindiging van zijn arbeidsovereenkomst, kan hij daarvan wel consequenties ondervinden bij de beoordeling van zijn aanvraag om een werkloosheidsuitkering. Ik ga hier bij het antwoord op vraag 3 nader op in. In een artikel in het weekblad FEM/De Week van 27 november jl. wordt gesteld dat de ontbindingsprocedure wordt misbruikt om \\u2013 in strijd met het anci\\xebnniteit- en afspiegelingsbeginsel \\u2013 ouderen bij voorrang te kunnen ontslaan. Naar aanleiding van dit bericht heb ik het Landelijk overleg co\\xf6rdinatoren Kantongerechten verzocht om na te gaan of dergelijke praktijken zich bij de kantongerechten voordoen en zo ja, of een schatting is te maken van de mate waarin. Daarbij heb ik het Landelijk overleg co\\xf6rdinatoren Kantongerechten verzocht aan te geven hoe kantonrechters in de regel omgaan met ontbindingsverzoeken, waarbij zij constateren, dan wel stellig vermoeden, dat de aangevoerde ontbindingsgrond feitelijk ontbreekt. Ik wil er in dit verband op wijzen dat de Sociaal-Economische Raad mij binnenkort zal adviseren over de arbeidsdeelname van ouderen. In de adviesaanvraag, 12 mei 1999 wordt expliciet verzocht in te gaan op wettelijke of andere maatregelen om ontslag van oudere werknemers te ontmoedigen. Dit houdt verband met de praktijk, waarin het voor oudere werknemers soms zeer aantrekkelijk wordt gemaakt om het arbeidsproces te verlaten. Wel is daarbij gewezen op het dilemma dat maatregelen die gericht zijn op het voorkomen van uitstroom uit het arbeidsproces, een negatieve uitwerking kunnen hebben op de instroom in het arbeidsproces. Verder zal de Adviescommissie Duaal Ontslagstelsel het kabinet volgend jaar adviseren over het toekomstig ontslagstelsel. In de taakomschrijving van de commissie is als belangrijk uitgangspunt opgenomen het belang van het behoud van een goede ontslagbescherming voor zwakke groepen op de arbeidsmarkt, waaronder oudere werknemers. Het kabinet zal zich, mede naar aanleiding van de ontvangen adviezen, nader beraden over de noodzaak en wenselijkheid van wijzigingen in het huidige ontslagstelsel. De uitvoeringsinstelling (uvi) beoordeelt bij iedere WW-aanvraag afzonderlijk of de dienstbetrekking is ge\\xebindigd zonder dat aan de voortzetting daarvan zodanige bezwaren zijn verbonden, dat die voortzetting niet van de werknemer kan worden gevergd. Indien de werknemer met de be\\xebindiging van zijn dienstbetrekking heeft ingestemd, dan wel heeft volstaan met een formeel verweer, beoordeelt de uvi of van de werknemer een adequaat verweer tegen de be\\xebindiging van de dienstbetrekking gevergd had kunnen worden. De werknemer dient zich tegen een voorgenomen ontslag te verweren indien de kans van slagen van zo\\u2019n verweer als overwegend positief kan worden ingeschat en er overigens geen sprake is van bezwaren die aan de voortzetting van de dienstbetrekking in de weg staan. Indien de uvi concludeert dat de werknemer ten onrechte heeft nagelaten zich (adequaat) tegen het ontslag te verweren, beoordeelt zij de werknemer verwijtbaar werkloos. In dat geval weigert de uvi de WW-uitkering blijvend geheel, of \\u2013 indien de werknemer de be\\xebindiging van de dienstbetrekking niet in overwegende mate kan worden verweten \\u2013 verlaagt zij het uitkeringspercentage gedurende 26 weken van 70 naar 35. Het besluit van het Landelijk instituut sociale verzekeringen van 19 november 1997 \\xabVerweer tegen ontslag\\xbb (Stcrt. 1997, 229) draagt de uvi\\u2019s op in alle gevallen waarin de beschikbare stukken onvoldoende duidelijkheid scheppen, een zelfstandig onderzoek uit te voeren naar de daadwerkelijke redenen van het ontslag en de omstandigheden waaronder dit plaatsvond. Daarbij is uitdrukkelijk aangegeven dat de uvi niet kan volstaan met het overnemen van het oordeel van de Regionaal Directeur van de Arbeidsvoorzieningsorganisatie (RDA) of de kantonrechter daaromtrent. Met de Wet Flexibiliteit en zekerheid (Stb. 1998, 300) is dit genuanceerd in die zin dat de werknemer niet verwijtbaar werkloos is indien de RDA toestemming voor het ontslag heeft verleend om uitsluitend bedrijfseconomische redenen. Indien de werkgever en de werknemer in het kader van de beoordeling van de WW-aanvraag onjuiste, maar gelijkluidende verklaringen afleggen en er geen andere informatie beschikbaar is die deze verklaringen tegenspreekt, is het in de praktijk voor de uvi niet eenvoudig de werkelijke reden voor de be\\xebindiging van de dienstbetrekking te achterhalen. Dit laat onverlet dat het wel de uitdrukkelijke taak is van de uvi\\u2019s om te trachten de feitelijke gang van zaken te achterhalen. De kantonrechter dient zich in beginsel bij elk ontbindingsverzoek te vergewissen van het bestaan van een gewichtige reden om de arbeidsovereenkomst te ontbinden. In dat kader kan de rechter van de werkgever een onderbouwing verlangen met betrekking tot de economische noodzaak en de ontslagkeuze. Dit neemt niet weg, dat het mogelijk blijft dat de kantonrechter een vooropgezet rollenspeI niet doorziet. Zoals bij het antwoord op de vorige vraag reeds aangegeven, stelt de uvi een eigen onderzoek in indien de redenen voor de be\\xebindiging van de arbeidsovereenkomst of de omstandigheden waaronder deze plaatsvond, niet duidelijk zijn. Het beleid van de regering is gericht op de bevordering van de arbeidsparticipatie van ouderen. Het bij voorrang ontslaan van oudere werknemers strookt hier niet mee. Het Ontslagbesluit, waarin de criteria voor de ontslagkeuze zijn opgenomen, beoogt dan ook een meer dan evenredige uitstroom van oudere werknemers via de ontslagprocedure bij de Regionaal Directeur van de Arbeidsvoorzieningsorganisatie te voorkomen. Met betrekking tot de aanbevelingen door de SER-commissie Arbeidsdeelname Ouderen, verwijs ik u naar het antwoord op vraag 2. Er zijn mij geen gegevens bekend over de mate waarin de ontbindingsprocedure wordt gebruikt voor het bij voorrang ontslaan van oudere werknemers, noch over de mate waarin oudere werknemers ten onrechte instemmen met een be\\xebindiging van hun arbeidsovereenkomst. Zoals al vermeld bij vraag 2 heb ik het Landelijk overleg co\\xf6rdinatoren Kantongerechten inmiddels verzocht mij ter zake te informeren. Verder heb ik het College van toezicht sociale verzekeringen verzocht om een onderzoek in te stellen naar de toepassing van de WW bij reorganisaties waarbij oudere werknemers meer dan evenredig worden ontslagen.',\n",
       "     u'jaar': u' 1999',\n",
       "     u'ministerie': u'Sociale Zaken en Werkgelegenheid',\n",
       "     u'partij': u' D66',\n",
       "     u'titel': u' Vragen naar aanleiding van het bericht dat een aantal bedrijven, waaronder Douwe Egberts en Campina Melkunie, oudere werknemers onder oneigenlijke voorwendselen via de kantonrechter wil ontslaan ten einde de kosten voor het bedrijf te verminderen.',\n",
       "     u'vraag': u' Wil een aantal bedrijven, waaronder Douwe Egberts en Campina Melkunie, oudere werknemers onder oneigenlijke voorwendselen via de kantonrechter ontslaan ten einde de kosten voor het bedrijf te verminderen? Mogen bedrijven aan oudere werknemers het aanbod doen om op een voor beide partijen financieel gunstige manier af te vloeien, indien dit slechts gebeurt met het oog op het verkrijgen van toestemming van de kantonrechter tot het verbreken van het dienstverband? Zo nee, hoe kan hiertegen opgetreden worden? Kan het gebeuren dat de WW-aanvraag van werknemers die meewerken aan dit aanbod niet wordt gehonoreerd door de uitvoeringsinstelling omdat deze werknemers verwijtbaar werkloos zijn? Hoe kan de uitvoeringsinstelling bij iedere WW-aanvraag onafhankelijk beoordelen of iemand al dan niet verwijtbaar werkloos is? Van welke omstandigheden is dit afhankelijk? In hoeverre speelt de beslissing van de kantonrechter om toestemming te verlenen aan de werkgever om het dienstverband met de werknemer te verbreken hierbij een rol? Hoe kan worden voorkomen dat werknemer en werkgever voor de kantonrechter een rollenspel opvoeren? Strookt deze praktijk met uw beleidsvoornemens om de uitstroom van ouderen uit het arbeidsproces te verminderen? Zo nee, wordt bij de opstelling van aanbevelingen door de SER-commissie Arbeidsdeelname Ouderen rekening gehouden met deze praktijk? In hoeverre is deze praktijk representatief voor andere bedrijven in Nederland? Zijn er cijfers bekend? Zo nee, wilt u dit laten onderzoeken? Column uit het bondsorgaan van de CNV BedrijvenBond, Bondsnieuws, van september 1999'},\n",
       "    u'_type': u'motie'},\n",
       "   {u'_id': u'KVR10816',\n",
       "    u'_index': u'moties',\n",
       "    u'_score': 1.0,\n",
       "    u'_source': {u'antwoord': u' Een weigering van Nederland om aan UNEP informatie te verstrekken over het gebruik van munitie met verarmd uranium tijdens de Kosovo-oorlog is niet aan de orde. UNEP heeft namelijk niet Nederland, maar de NAVO en het Amerikaanse ministerie van Buitenlandse Zaken benaderd voor informatie. De regering heeft er in NAVO-verband steeds op aangedrongen dat het Bondgenootschap volledige medewerking verleent aan het onderzoek van de UNEP/UNCHS Balkans Task Force naar de gevolgen voor het milieu van het Kosovo-conflict. Daarbij dient zoveel mogelijk transparantie te worden betracht als militair-operationele overwegingen toelaten. De discussie in de NAVO over dit onderwerp is nog niet afgerond. Zoals reeds eerder aan de Kamer gemeld, worden Nederlandse KFOR-miIitairen voorafgaande aan hun uitzending ge\\xefnformeerd over mogeIijke gezondheidsrisico\\u2018s van ioniserende straling, incIusief verarmd uranium en in het bijzonder over de te nemen (voorzorgs)maatregelen ingeval van mogelijke blootstelling aan verarmd uranium. De minister van Volkshuisvesting, Ruimtelijke Ordening en Milieubeheer heeft een algemene bijdrage verstrekt van USD 30 000 voor het werk van de Balkans Task Force (BTF) van UNEP en UNHCS, waarvan het onderzoek naar de verspreiding van verarmd uranium in Kosovo en Servi\\xeb een onderdeel was. De bevindingen van de BTF zijn vastgeIegd in een rapport met de titeI \\xabThe Kosovo Conflict. consequences for the environment and human settIements\\xbb (zie beantwoording van vragen van het lid Marijnissen van 25 oktober 1999). De Nederlandse bijdrage was niet geoormerkt voor een specifieke activiteit van de BTF. Het leeuwendeel van de kosten van de Task Force is betaald door enkele Scandinavische landen. De Regering acht het NAVO-overleg het meest geschikte forum om het Nederlandse standpunt inzake het informeren van UNEP/UNHCS over te brengen. Zij zal zich voor dit standpunt blijven inzetten. Nee, zie ook het antwoord op vraag 1.',\n",
       "     u'jaar': u' 1999',\n",
       "     u'ministerie': u'Buitenlandse Zaken',\n",
       "     u'partij': u'GroenLinks',\n",
       "     u'titel': u' Vragen naar aanleiding van het bericht in Onze Wereld van december 1999 dat Nederland weigert om aan UNEP (United Nations Environment Programme) informatie te verstrekken over het gebruik van munitie met verarmd uranium tijdens de Kosovo-oorlog.',\n",
       "     u'vraag': u' Is het waar dat Nederland weigert om aan UNEP informatie te verstrekken over het gebruik van munitie met verarmd uranium tijdens de Kosovo-oorlog? Zo ja, kunt u toelichten waarom Nederland de haar ter beschikking staande informatie weigert af te staan aan UNEP? Deelt u de mening dat zowel burgers, hulpverleners als militairen onnodige risico\\u2019s kunnen lopen als UNEP niet beschikt over deze informatie en de VN derhalve niet in staat is om maatregelen te nemen om deze risico\\u2019s te vermijden? Worden de Nederlandse Kfor-soldaten die worden uitgezonden naar Kosovo voor vertrek voorgelicht over de risico\\u2019s verbonden aan verarmd uranium? Krijgen zij ook informatie over de mogelijke locaties die vervuild zijn als gevolg van het gebruik van munitie met verarmd uranium? Zo ja, kunt u aangeven waarom u voorzorgsmaatregelen voor de Kfor-militairen w\\xe9l noodzakelijk acht, maar weigert de hiervoor benodigde gegevens ter beschikking te stellen aan UNEP zodat de VN ook de risico\\u2019s voor burgers en hulpverleners kan beperken? Is het waar dat Nederland \\xe9\\xe9n van de belangrijkste financiers is van het onderzoek dat door UNEP wordt verricht naar de verspreiding van verarmd uranium in Kosovo en Servi\\xeb? Zo ja, hoe verklaart u in dit licht de Nederlandse weigering tot medewerking aan dit onderzoek? Deelt u de mening dat het weinig consistent is om enerzijds als medefinancier op te treden en anderzijds de uitvoering van het onderzoek ernstig te bemoeilijken? Bent u bereid om alsnog op zeer korte termijn de informatie waarover Nederland beschikt ter beschikking te stellen aan UNEP dan wel indien de vertrouwelijke aard van (delen van) deze informatie overdracht verhindert, in overleg met UNEP te bezien op welke wijze Nederland op grond van de haar ter beschikking staande informatie een maximale bijdrage kan leveren om het onderzoek met succes af te ronden? Is het waar dat het ministerie van Defensie de vraag om informatie van UNEP op formele gronden heeft afgewezen, wijzend op het ontbreken van (internationale) verdragsverplichtingen? Zo ja, deelt u de mening dat een afwijzing op dergelijke gronden op geen enkele manier recht doet aan de ernst van de situatie en de mogelijke risico\\u2019s verbonden aan de aanwezigheid van verarmd uranium? Onze Wereld, december 1999'},\n",
       "    u'_type': u'motie'}],\n",
       "  u'max_score': 1.0,\n",
       "  u'total': 20512},\n",
       " u'timed_out': False,\n",
       " u'took': 17}"
      ]
     },
     "execution_count": 2,
     "metadata": {},
     "output_type": "execute_result"
    }
   ],
   "source": [
    "import sys\n",
    "import json\n",
    "from elasticsearch import Elasticsearch\n",
    "\n",
    "HOST = 'http://localhost:9200/'\n",
    "es = Elasticsearch(hosts=[HOST])"
   ]
  },
  {
   "cell_type": "markdown",
   "metadata": {},
   "source": [
    "## If no module elastic search exists"
   ]
  },
  {
   "cell_type": "code",
   "execution_count": 38,
   "metadata": {
    "collapsed": true
   },
   "outputs": [],
   "source": [
    "#pip install elasticsearch in terminal (shell)"
   ]
  },
  {
   "cell_type": "markdown",
   "metadata": {},
   "source": [
    "# Putting information in the DB\n"
   ]
  },
  {
   "cell_type": "code",
   "execution_count": 24,
   "metadata": {
    "collapsed": false
   },
   "outputs": [],
   "source": [
    "import pandas as pd\n",
    "import re\n",
    "import numpy as np\n",
    "from elasticsearch import  helpers\n"
   ]
  },
  {
   "cell_type": "code",
   "execution_count": 25,
   "metadata": {
    "collapsed": false
   },
   "outputs": [
    {
     "data": {
      "text/html": [
       "<div>\n",
       "<table border=\"1\" class=\"dataframe\">\n",
       "  <thead>\n",
       "    <tr style=\"text-align: right;\">\n",
       "      <th></th>\n",
       "      <th>jaar</th>\n",
       "      <th>partij</th>\n",
       "      <th>titel</th>\n",
       "      <th>vraag</th>\n",
       "      <th>antwoord</th>\n",
       "      <th>ministerie</th>\n",
       "    </tr>\n",
       "  </thead>\n",
       "  <tbody>\n",
       "    <tr>\n",
       "      <th>KVR1000</th>\n",
       "      <td>1994</td>\n",
       "      <td>PvdA</td>\n",
       "      <td>De vragen betreffen de betrouwbaarheid van de...</td>\n",
       "      <td>Hebt u kennisgenomen van het televisieprogram...</td>\n",
       "      <td>Ja. Het bedoelde geluidmeetpunt is eigendom v...</td>\n",
       "      <td>Verkeer en Waterstaat</td>\n",
       "    </tr>\n",
       "    <tr>\n",
       "      <th>KVR10000</th>\n",
       "      <td>1999</td>\n",
       "      <td>PvdA</td>\n",
       "      <td>Vragen naar aanleiding van berichten (uitzend...</td>\n",
       "      <td>Kent u de berichten over de situatie in de Me...</td>\n",
       "      <td></td>\n",
       "      <td>Justitie</td>\n",
       "    </tr>\n",
       "    <tr>\n",
       "      <th>KVR10001</th>\n",
       "      <td>1999</td>\n",
       "      <td>SP</td>\n",
       "      <td>Vragen naar aanleiding van de berichten \"Nede...</td>\n",
       "      <td>Kent u de berichten «Nederland steunt de Soeh...</td>\n",
       "      <td></td>\n",
       "      <td>Financien</td>\n",
       "    </tr>\n",
       "    <tr>\n",
       "      <th>KVR10002</th>\n",
       "      <td>1999</td>\n",
       "      <td>PvdA</td>\n",
       "      <td>Vragen over de gebrekkige opvang van verpleeg...</td>\n",
       "      <td>Kent u het bericht over onderzoek van Nu91 me...</td>\n",
       "      <td>Ja. Het onderzoek van NU’91 wijst uit dat het...</td>\n",
       "      <td>Volksgezondheid, Welzijn en Sport</td>\n",
       "    </tr>\n",
       "    <tr>\n",
       "      <th>KVR10003</th>\n",
       "      <td>1999</td>\n",
       "      <td>PvdA</td>\n",
       "      <td>Vragen over onbetrouwbaarheid van filemeldingen.</td>\n",
       "      <td>Hebt u kennisgenomen van de berichten over de...</td>\n",
       "      <td>Ja. Nee. Door de waarnemers van het Algemeen ...</td>\n",
       "      <td>Verkeer en Waterstaat</td>\n",
       "    </tr>\n",
       "  </tbody>\n",
       "</table>\n",
       "</div>"
      ],
      "text/plain": [
       "           jaar partij                                              titel  \\\n",
       "KVR1000    1994   PvdA   De vragen betreffen de betrouwbaarheid van de...   \n",
       "KVR10000   1999   PvdA   Vragen naar aanleiding van berichten (uitzend...   \n",
       "KVR10001   1999     SP   Vragen naar aanleiding van de berichten \"Nede...   \n",
       "KVR10002   1999   PvdA   Vragen over de gebrekkige opvang van verpleeg...   \n",
       "KVR10003   1999   PvdA   Vragen over onbetrouwbaarheid van filemeldingen.   \n",
       "\n",
       "                                                      vraag  \\\n",
       "KVR1000    Hebt u kennisgenomen van het televisieprogram...   \n",
       "KVR10000   Kent u de berichten over de situatie in de Me...   \n",
       "KVR10001   Kent u de berichten «Nederland steunt de Soeh...   \n",
       "KVR10002   Kent u het bericht over onderzoek van Nu91 me...   \n",
       "KVR10003   Hebt u kennisgenomen van de berichten over de...   \n",
       "\n",
       "                                                   antwoord  \\\n",
       "KVR1000    Ja. Het bedoelde geluidmeetpunt is eigendom v...   \n",
       "KVR10000                                                      \n",
       "KVR10001                                                      \n",
       "KVR10002   Ja. Het onderzoek van NU’91 wijst uit dat het...   \n",
       "KVR10003   Ja. Nee. Door de waarnemers van het Algemeen ...   \n",
       "\n",
       "                                  ministerie  \n",
       "KVR1000                Verkeer en Waterstaat  \n",
       "KVR10000                            Justitie  \n",
       "KVR10001                           Financien  \n",
       "KVR10002   Volksgezondheid, Welzijn en Sport  \n",
       "KVR10003               Verkeer en Waterstaat  "
      ]
     },
     "execution_count": 25,
     "metadata": {},
     "output_type": "execute_result"
    }
   ],
   "source": [
    "kvrdf= pd.read_csv('http://maartenmarx.nl/teaching/zoekmachines/LectureNotes/MySQL/KVR.csv.gz', \n",
    "                   compression='gzip', sep='\\t', encoding='utf-8',\n",
    "                   index_col=0, names=['jaar', 'partij','titel','vraag','antwoord','ministerie']) \n",
    "\n",
    "kvrdf = kvrdf.dropna() #remove nan's\n",
    "kvrdf.index=kvrdf.index.str.strip()\n",
    "kvrdf.index=kvrdf.index.map(lambda x: str(x.split('.xml', 1)[0]))"
   ]
  },
  {
   "cell_type": "code",
   "execution_count": 26,
   "metadata": {
    "collapsed": false
   },
   "outputs": [],
   "source": [
    "kvrdf = kvrdf[kvrdf['antwoord'].map(len) > 1]\n",
    "kvrdf = kvrdf[kvrdf['titel'].map(len) > 1]\n",
    "kvrdf = kvrdf[kvrdf['jaar'].map(len) > 1]\n",
    "kvrdf = kvrdf[kvrdf['partij'].map(len) > 1]\n",
    "kvrdf = kvrdf[kvrdf['ministerie'].map(len) > 1]\n"
   ]
  },
  {
   "cell_type": "code",
   "execution_count": 30,
   "metadata": {
    "collapsed": false
   },
   "outputs": [],
   "source": [
    "def ministerie_cleanup(x):\n",
    "    x = re.sub(r'.*jus.*','Justitie',x ,flags=re.IGNORECASE)\n",
    "    x = re.sub(r'.*fin.*','Financien',x ,flags=re.IGNORECASE)\n",
    "    x = re.sub(r'.*erkeer.*','Verkeer en Waterstaat',x ,flags=re.IGNORECASE)\n",
    "    x = re.sub(r'.*algem.*','Algemene Zaken',x ,flags=re.IGNORECASE)\n",
    "    x = re.sub(r'.*bestu.*','Bestuurlijke Vernieuwing en Koninkrijksrelaties',x ,flags=re.IGNORECASE)\n",
    "    x = re.sub(r'.*binnen.*','Binnenlandse Zaken',x ,flags=re.IGNORECASE)\n",
    "    x = re.sub(r'.*buiten.*','Buitenlandse Zaken',x ,flags=re.IGNORECASE)\n",
    "    x = re.sub(r'.*def.*','Defensie',x ,flags=re.IGNORECASE)\n",
    "    x = re.sub(r'.*econo.*','Economische Zaken',x ,flags=re.IGNORECASE)\n",
    "    x = re.sub(r'.*europe.*','Europese Zaken',x ,flags=re.IGNORECASE)\n",
    "    x = re.sub(r'.*grote.*','Grote Steden- en Integratiebeleid',x ,flags=re.IGNORECASE)\n",
    "    x = re.sub(r'.*jeugd.*','Jeugd en Gezin',x ,flags=re.IGNORECASE)\n",
    "    x = re.sub(r'.*integra.*','Integratie, Jeugdbescherming, Preventie en Reclassering',x ,flags=re.IGNORECASE)\n",
    "    x = re.sub(r'.*kabine.*','Kabinet voor Nederlands-Antilliaanse en Arubaanse Zaken',x ,flags=re.IGNORECASE)\n",
    "    x = re.sub(r'.*voedsel.*','Landbouw, Natuur en Voedselkwaliteit',x ,flags=re.IGNORECASE)\n",
    "    x = re.sub(r'.*visser.*','Landbouw, Natuurbeheer en Visserij',x ,flags=re.IGNORECASE)\n",
    "    x = re.sub(r'.*minister.*','Minister-President',x ,flags=re.IGNORECASE)\n",
    "    x = re.sub(r'.*onderwij.*','Onderwijs, Cultuur en Wetenschap',x ,flags=re.IGNORECASE)\n",
    "    x = re.sub(r'.*ontwikkelings.*','Ontwikkelingssamenwerking',x ,flags=re.IGNORECASE)\n",
    "    x = re.sub(r'.*werkgelegen.*','Sociale Zaken en Werkgelegenheid',x ,flags=re.IGNORECASE)\n",
    "    x = re.sub(r'.*staten.*','Staten-Generaal',x ,flags=re.IGNORECASE)\n",
    "    x = re.sub(r'.*welzijn.*','Volksgezondheid, Welzijn en Sport',x ,flags=re.IGNORECASE)\n",
    "    x = re.sub(r'.*volkshuis.*','Volkshuisvesting, Ruimtelijke Ordening en Milieubeheer',x ,flags=re.IGNORECASE)\n",
    "    x = re.sub(r'.*vreemde.*','Vreemdelingenzaken en Integratie',x ,flags=re.IGNORECASE)\n",
    "    x = re.sub(r'.*wijken.*','Wonen, Wijken en Integratie',x ,flags=re.IGNORECASE)\n",
    "    x = re.sub(r'.*europe.*','Europese Zaken',x ,flags=re.IGNORECASE)\n",
    "    \n",
    "    return x"
   ]
  },
  {
   "cell_type": "code",
   "execution_count": 31,
   "metadata": {
    "collapsed": false
   },
   "outputs": [],
   "source": [
    "def partij_cleanup(x):\n",
    "    x = re.sub(r'.*chris.*','CU',x ,flags=re.IGNORECASE)\n",
    "    x = re.sub(r'.*hendr.*','Fractie Hendriks',x ,flags=re.IGNORECASE)\n",
    "    x = re.sub(r'.*bierman.*','Fractie Bierman',x ,flags=re.IGNORECASE)\n",
    "    x = re.sub(r'.*groen.*','GroenLinks',x ,flags=re.IGNORECASE)\n",
    "    x = re.sub(r'.*eerdmans.*','Fractie Eerdmans van Schijndel',x ,flags=re.IGNORECASE)\n",
    "    x = re.sub(r'.*lazrak.*','Fractie Lazrak',x ,flags=re.IGNORECASE)\n",
    "    x = re.sub(r'.*nijpels.*','Fractie Nijpels',x ,flags=re.IGNORECASE)\n",
    "    x = re.sub(r'.*wilders.*','Fractie Wilders',x ,flags=re.IGNORECASE)\n",
    "    x = re.sub(r'.*justitie.*','NVT',x ,flags=re.IGNORECASE)\n",
    "    x = re.sub(r'.*batenbur.*','Martin Batenburg',x ,flags=re.IGNORECASE)\n",
    "    x = re.sub(r'.*arbeid.*','PvdA',x ,flags=re.IGNORECASE)\n",
    "    x = re.sub(r'.*dieren.*','PvdD',x ,flags=re.IGNORECASE)\n",
    "    x = re.sub(r'.*vrijheid.*','PVV',x ,flags=re.IGNORECASE)\n",
    "    x = re.sub(r'.*pvda.*','PvdA',x ,flags=re.IGNORECASE)\n",
    "    x = re.sub(r'.*RPF.*','RPF',x ,flags=re.IGNORECASE)\n",
    "    x = re.sub(r'.*SP.*','SP',x ,flags=re.IGNORECASE)\n",
    "    x = re.sub(r'.*Unie 55+.*','Ouderen Unie 55+',x ,flags=re.IGNORECASE)\n",
    "    x = re.sub(r'.*verdonk.*','Fractie Verdonk',x ,flags=re.IGNORECASE)\n",
    "    x = re.sub(r'.*verkerk.*','Fractie Verkerk',x ,flags=re.IGNORECASE)\n",
    "    x = re.sub(r'.*cd.*','CDA',x ,flags=re.IGNORECASE)\n",
    "    return x\n"
   ]
  },
  {
   "cell_type": "code",
   "execution_count": 32,
   "metadata": {
    "collapsed": false
   },
   "outputs": [
    {
     "data": {
      "text/plain": [
       "(20512, [])"
      ]
     },
     "execution_count": 32,
     "metadata": {},
     "output_type": "execute_result"
    }
   ],
   "source": [
    "k  = ({\n",
    "        \"_type\":    \"motie\", \n",
    "        \"_index\":   \"moties\",\n",
    "        \"_id\":       x,\n",
    "        \"titel\" :    kvrdf.titel[x],\n",
    "        \"partij\" :   partij_cleanup(kvrdf.partij[x]),\n",
    "        \"jaar\" :     kvrdf.jaar[x],\n",
    "        \"ministerie\":ministerie_cleanup(kvrdf.ministerie[x]),\n",
    "        \"vraag\":     kvrdf.vraag[x],\n",
    "        \"antwoord\":  kvrdf.antwoord[x]\n",
    "    } for x in kvrdf.index if x != 'KVR30348' )\n",
    "\n",
    "es.indices.create('moties')\n",
    "helpers.bulk(es,k)"
   ]
  },
  {
   "cell_type": "code",
   "execution_count": 22,
   "metadata": {
    "collapsed": false
   },
   "outputs": [
    {
     "data": {
      "text/plain": [
       "{u'acknowledged': True}"
      ]
     },
     "execution_count": 22,
     "metadata": {},
     "output_type": "execute_result"
    }
   ],
   "source": [
    "#To delete the index:\n",
    "#es.indices.delete(index='moties')\n"
   ]
  },
  {
   "cell_type": "markdown",
   "metadata": {},
   "source": [
    "## Install django"
   ]
  },
  {
   "cell_type": "raw",
   "metadata": {},
   "source": [
    "Install django for our application in your terminal:\n",
    "\n",
    "pip install --upgrade pip\n",
    "pip install Django"
   ]
  },
  {
   "cell_type": "markdown",
   "metadata": {},
   "source": [
    "## Start the application"
   ]
  },
  {
   "cell_type": "raw",
   "metadata": {},
   "source": [
    "Download the directory \"Zoekmachines\" from github.\n",
    "\n",
    "In Zoekmachines/mysite/mysite/settings.py\n",
    "\n",
    "CHANGE:\n",
    "\n",
    "        TEMPLATES = [\n",
    "            {\n",
    "                'BACKEND': 'django.template.backends.django.DjangoTemplates',\n",
    "           -->  'DIRS': [ '/Users/jimiduiveman/Documents/Zoekmachines/mysite/moties/templates/' ],\n",
    "\n",
    "INTO:           'DIRS': [ '/your_path/Zoekmachines/mysite/moties/templates/' ],\n",
    "\n",
    "\n",
    "Head to Zoekmachines in terminal, cd Zoekmachines/mysite and do \"python manage.py runserver\"\n",
    "Enjoy the website!"
   ]
  }
 ],
 "metadata": {
  "kernelspec": {
   "display_name": "Python 2",
   "language": "python",
   "name": "python2"
  },
  "language_info": {
   "codemirror_mode": {
    "name": "ipython",
    "version": 2
   },
   "file_extension": ".py",
   "mimetype": "text/x-python",
   "name": "python",
   "nbconvert_exporter": "python",
   "pygments_lexer": "ipython2",
   "version": "2.7.13"
  }
 },
 "nbformat": 4,
 "nbformat_minor": 0
}
